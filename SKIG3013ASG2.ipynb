{
  "nbformat": 4,
  "nbformat_minor": 0,
  "metadata": {
    "colab": {
      "provenance": []
    },
    "kernelspec": {
      "name": "python3",
      "display_name": "Python 3"
    },
    "language_info": {
      "name": "python"
    }
  },
  "cells": [
    {
      "cell_type": "markdown",
      "source": [
        "Step 1: Mount Google Drive and change the path to the project file location"
      ],
      "metadata": {
        "id": "OwqMDwqbev-s"
      }
    },
    {
      "cell_type": "code",
      "execution_count": null,
      "metadata": {
        "colab": {
          "base_uri": "https://localhost:8080/"
        },
        "id": "LXCmgGMDV1F-",
        "outputId": "47ff9003-b443-4945-93ae-8e35759814bb"
      },
      "outputs": [
        {
          "output_type": "stream",
          "name": "stdout",
          "text": [
            "Drive already mounted at /content/drive; to attempt to forcibly remount, call drive.mount(\"/content/drive\", force_remount=True).\n",
            "[Errno 2] No such file or directory: 'drive/MyDrive/SKIG3013ASH2'\n",
            "/content\n"
          ]
        }
      ],
      "source": [
        "from google.colab import drive\n",
        "drive.mount('/content/drive')\n",
        "%cd drive/MyDrive/SKIG3013ASH2"
      ]
    },
    {
      "cell_type": "markdown",
      "source": [
        "Step 2: Install the require library"
      ],
      "metadata": {
        "id": "h-cTi85tfBTN"
      }
    },
    {
      "cell_type": "code",
      "source": [
        "!pip install pyngrok==4.1.1\n",
        "!pip install flask-ngrok\n",
        "!ngrok authtoken '2XYJuTHIwkmrKirLExsNMhfapwK_46cHAqw6Cgi2sjtMjJqqP'"
      ],
      "metadata": {
        "colab": {
          "base_uri": "https://localhost:8080/"
        },
        "id": "hAi40YQCWsS9",
        "outputId": "1c0af9b8-5225-402a-df2f-6430801b180a"
      },
      "execution_count": null,
      "outputs": [
        {
          "output_type": "stream",
          "name": "stdout",
          "text": [
            "Requirement already satisfied: pyngrok==4.1.1 in /usr/local/lib/python3.10/dist-packages (4.1.1)\n",
            "Requirement already satisfied: future in /usr/local/lib/python3.10/dist-packages (from pyngrok==4.1.1) (0.18.3)\n",
            "Requirement already satisfied: PyYAML in /usr/local/lib/python3.10/dist-packages (from pyngrok==4.1.1) (6.0.1)\n",
            "Requirement already satisfied: flask-ngrok in /usr/local/lib/python3.10/dist-packages (0.0.25)\n",
            "Requirement already satisfied: Flask>=0.8 in /usr/local/lib/python3.10/dist-packages (from flask-ngrok) (2.2.5)\n",
            "Requirement already satisfied: requests in /usr/local/lib/python3.10/dist-packages (from flask-ngrok) (2.31.0)\n",
            "Requirement already satisfied: Werkzeug>=2.2.2 in /usr/local/lib/python3.10/dist-packages (from Flask>=0.8->flask-ngrok) (3.0.1)\n",
            "Requirement already satisfied: Jinja2>=3.0 in /usr/local/lib/python3.10/dist-packages (from Flask>=0.8->flask-ngrok) (3.1.2)\n",
            "Requirement already satisfied: itsdangerous>=2.0 in /usr/local/lib/python3.10/dist-packages (from Flask>=0.8->flask-ngrok) (2.1.2)\n",
            "Requirement already satisfied: click>=8.0 in /usr/local/lib/python3.10/dist-packages (from Flask>=0.8->flask-ngrok) (8.1.7)\n",
            "Requirement already satisfied: charset-normalizer<4,>=2 in /usr/local/lib/python3.10/dist-packages (from requests->flask-ngrok) (3.3.2)\n",
            "Requirement already satisfied: idna<4,>=2.5 in /usr/local/lib/python3.10/dist-packages (from requests->flask-ngrok) (3.6)\n",
            "Requirement already satisfied: urllib3<3,>=1.21.1 in /usr/local/lib/python3.10/dist-packages (from requests->flask-ngrok) (2.0.7)\n",
            "Requirement already satisfied: certifi>=2017.4.17 in /usr/local/lib/python3.10/dist-packages (from requests->flask-ngrok) (2023.11.17)\n",
            "Requirement already satisfied: MarkupSafe>=2.0 in /usr/local/lib/python3.10/dist-packages (from Jinja2>=3.0->Flask>=0.8->flask-ngrok) (2.1.3)\n",
            "Authtoken saved to configuration file: /root/.ngrok2/ngrok.yml\n"
          ]
        }
      ]
    },
    {
      "cell_type": "markdown",
      "source": [
        "Step 3: Create the needed tables"
      ],
      "metadata": {
        "id": "AGmKEEvmmWb5"
      }
    },
    {
      "cell_type": "code",
      "source": [
        "import sqlite3\n",
        "db_folder='/content/drive/MyDrive/SKIG3013ASG2'\n",
        "conn=sqlite3.connect(db_folder+'mydatabase.db')\n",
        "cursor = conn.cursor()\n",
        "#query\n",
        "create_table_query ='''\n",
        "CREATE TABLE IF NOT EXISTS users(\n",
        "  id INTEGER PRIMARY KEY AUTOINCREMENT,\n",
        "  username TEXT NOT NULL\n",
        ")\n",
        "'''\n",
        "cursor.execute(create_table_query)\n",
        "\n",
        "create_table_query ='''\n",
        "CREATE TABLE IF NOT EXISTS profile(\n",
        "  username TEXT NOT NULL,\n",
        "  description TEXT NOT NULL,\n",
        "  location TEXT NOT NULL,\n",
        "  contact INT NOT NULL,\n",
        "  email TEXT NOT NULL,\n",
        "  background TEXT NOT NULL,\n",
        "  linked TEXT NOT NULL,\n",
        "  FOREIGN KEY (username) REFERENCES users (username)\n",
        ")\n",
        "'''\n",
        "cursor.execute(create_table_query)\n",
        "\n",
        "create_table_query ='''\n",
        "CREATE TABLE IF NOT EXISTS education(\n",
        "  username TEXT NOT NULL,\n",
        "  school TEXT NOT NULL,\n",
        "  date TEXT NOT NULL,\n",
        "  course TEXT NOT NULL,\n",
        "  major TEXT NOT NULL,\n",
        "  CGPA FLOAT(4, 2) NOT NULL,\n",
        "  relevant_course TEXT NOT NULL,\n",
        "  FOREIGN KEY (username) REFERENCES users (username)\n",
        ")\n",
        "'''\n",
        "cursor.execute(create_table_query)\n",
        "\n",
        "create_table_query ='''\n",
        "CREATE TABLE IF NOT EXISTS skill(\n",
        "  username TEXT NOT NULL,\n",
        "  skills TEXT NOT NULL,\n",
        "  FOREIGN KEY (username) REFERENCES users (username)\n",
        ")\n",
        "'''\n",
        "cursor.execute(create_table_query)\n",
        "\n",
        "create_table_query ='''\n",
        "CREATE TABLE IF NOT EXISTS hobby(\n",
        "  username TEXT NOT NULL,\n",
        "  hobby TEXT NOT NULL,\n",
        "  description TEXT NOT NULL,\n",
        "  FOREIGN KEY (username) REFERENCES users (username)\n",
        ")\n",
        "'''\n",
        "cursor.execute(create_table_query)\n",
        "\n",
        "\n",
        "create_table_query ='''\n",
        "CREATE TABLE IF NOT EXISTS project(\n",
        "  date TEXT NOT NULL,\n",
        "  system TEXT NOT NULL,\n",
        "  function TEXT NOT NULL\n",
        ")\n",
        "'''\n",
        "cursor.execute(create_table_query)\n",
        "\n",
        "create_table_query ='''\n",
        "CREATE TABLE IF NOT EXISTS questions(\n",
        "  name TEXT NOT NULL,\n",
        "  email TEXT NOT NULL,\n",
        "  question TEXT NOT NULL\n",
        ")\n",
        "'''\n",
        "cursor.execute(create_table_query)\n",
        "\n",
        "create_table_query ='''\n",
        "CREATE TABLE IF NOT EXISTS service(\n",
        "  name TEXT NOT NULL,\n",
        "  email TEXT NOT NULL,\n",
        "  source TEXT NOT NULL,\n",
        "  type TEXT NOT NULL,\n",
        "  budget TEXT NOT NULL,\n",
        "  detail TEXT NOT NULL\n",
        ")\n",
        "'''\n",
        "cursor.execute(create_table_query)"
      ],
      "metadata": {
        "colab": {
          "base_uri": "https://localhost:8080/"
        },
        "id": "6RoSjx6TbgHg",
        "outputId": "1583ca53-737d-41b7-c16b-1c57c895c8e5"
      },
      "execution_count": null,
      "outputs": [
        {
          "output_type": "execute_result",
          "data": {
            "text/plain": [
              "<sqlite3.Cursor at 0x7bd9364930c0>"
            ]
          },
          "metadata": {},
          "execution_count": 29
        }
      ]
    },
    {
      "cell_type": "markdown",
      "source": [
        "Step 4: Insert the needed data into database"
      ],
      "metadata": {
        "id": "zA5aiDsjmSm4"
      }
    },
    {
      "cell_type": "code",
      "source": [
        "#List of user data\n",
        "insert_query = '''\n",
        "INSERT INTO users (username) VALUES (?)\n",
        "'''\n",
        "users = [\"Tracy Liaw Mien Yee\", \"Chong Kar Min\", \"Low Wei Jie\", \"Derrick Saw Wei Heng\"]\n",
        "for user in users:\n",
        "  cursor.execute(insert_query, (user,))\n",
        "  conn.commit()\n",
        "\n",
        "# List of profile data\n",
        "insert_query = '''\n",
        "INSERT INTO profile (username, description, location, contact, email,background, linked) VALUES (?,?, ?, ?, ?, ?,?)\n",
        "'''\n",
        "profiles = [\n",
        "    (\"Tracy Liaw Mien Yee\", \"Specialized in Frontend Engineering, including Design, Communicate, and Develop\", \"Kuching, Sarawak\", \"0109799677\", \"yliawt02@gmail.com\",\"#fbd67d\",\"www.linkedin.com/in/liawyee\"),\n",
        "    (\"Chong Kar Min\", \"Passionate about crafting exceptional user experiences on web and app platforms, combining creativity, technical expertise, and a user-centered mindset to deliver intuitive and visually appealing interfaces.\", \"Chemor, Perak\", \"0125658452\", \"karminchong88@gmail.com\",\"#ece0bf\",\"www.linkedin.com/in/karmin-chong-3b7b772a7\"),\n",
        "    (\"Low Wei Jie\", \"Adept in problem-solving, critical thinking, and collaborating with interdisciplinary teams. Eager to leverage his technical skills and knowledge to contribute to innovative solutions and drive success in a dynamic, tech-driven environment.\", \"Kuala Lumpur\", \"0102440951\", \"weijie0429@gmail.com\",\"#cddeda\",\"www.linkedin.com/in/low-weijie-3154ba2a8\"),\n",
        "    (\"Derrick Saw Wei Heng\", \"Strong educational background and passion for problem-solving, ready for effective communication, collaborative teams, and contribute to innovative software solutions and technological advancements.\", \"Butterworth, Penang\", \"0174309025\", \"derricksaw123@gmail.com\",\"#d7e5e7\",\"https://www.linkedin.com/in/saw-derrick-3a7b3b258/\")\n",
        "]\n",
        "for record in profiles:\n",
        "    cursor.execute(insert_query, record)\n",
        "    conn.commit()\n",
        "\n",
        "# List of education data\n",
        "insert_query = '''\n",
        "INSERT INTO education (username, school, date, course, major, CGPA, relevant_course) VALUES (?,?, ?, ?, ?, ?, ?)\n",
        "'''\n",
        "educations = [\n",
        "    (\"Tracy Liaw Mien Yee\", \"Universiti Utara Malaysia (UUM)\", \"OCT2021-MAY2025\", \"Bachelor of Computer Science\",\"Majoring in Human Centered Computing (HCC)\", 3.81,\"Mathematics for Computing, Computer System Organization and Architecture, Programming and Problem Solving, Data Communication and Networking, Discrete Mathematics, Computer Operating System, Data Structures, Statistics and Probability, Database Management System, Artificial Intelligence, Software Development Process, Interaction Design, Data Analytics, Interaction System and Tools, Modelling and Simulation\"),\n",
        "    (\"Chong Kar Min\", \"Universiti Utara Malaysia (UUM)\", \"OCT2021-MAY2025\", \"Bachelor of Computer Science\",\"Majoring in Human Centered Computing (HCC)\", 3.85,\"Mathematics for Computing, Computer System Organization and Architecture, Programming and Problem Solving, Data Communication and Networking, Discrete Mathematics, Computer Operating System, Data Structures, Statistics and Probability, Database Management System, Artificial Intelligence, Software Development Process, Interaction Design, Data Analytics, Interaction System and Tools, Modelling and Simulation\"),\n",
        "    (\"Low Wei Jie\", \"Universiti Utara Malaysia (UUM)\", \"OCT2021-MAY2025\", \"Bachelor of Computer Science\",\"Majoring in Human Centered Computing (HCC)\", 3.84,\"Mathematics for Computing, Computer System Organization and Architecture, Programming and Problem Solving, Data Communication and Networking, Discrete Mathematics, Computer Operating System, Data Structures, Statistics and Probability, Database Management System, Artificial Intelligence, Software Development Process, Interaction Design, Data Analytics, Interaction System and Tools, Modelling and Simulation\"),\n",
        "    (\"Derrick Saw Wei Heng\", \"Universiti Utara Malaysia (UUM)\", \"OCT2021-MAY2025\", \"Bachelor of Computer Science\",\"Majoring in Human Centered Computing (HCC)\", 3.98,\"Mathematics for Computing, Computer System Organization and Architecture, Programming and Problem Solving, Data Communication and Networking, Discrete Mathematics, Computer Operating System, Data Structures, Statistics and Probability, Database Management System, Artificial Intelligence, Software Development Process, Interaction Design, Data Analytics, Interaction System and Tools, Modelling and Simulation\")\n",
        "]\n",
        "for education in educations:\n",
        "    cursor.execute(insert_query, education)\n",
        "    conn.commit()\n",
        "\n",
        "# List of skills data\n",
        "insert_query = '''\n",
        "INSERT INTO skill (username, skills) VALUES (?, ?)\n",
        "'''\n",
        "skills = [\n",
        "    (\"Tracy Liaw Mien Yee\",\"Website and Mobile Development\"),\n",
        "    (\"Tracy Liaw Mien Yee\",\"Responsive Design\"),\n",
        "    (\"Tracy Liaw Mien Yee\",\"UI / UX\"),\n",
        "    (\"Tracy Liaw Mien Yee\",\"Performance Optimization\"),\n",
        "    (\"Tracy Liaw Mien Yee\",\"Software Testing\"),\n",
        "    (\"Chong Kar Min\",\"Data Analysis\"),\n",
        "    (\"Chong Kar Min\",\"Data Visualization\"),\n",
        "    (\"Chong Kar Min\",\"Statistics\"),\n",
        "    (\"Chong Kar Min\",\"Machine Learning\"),\n",
        "    (\"Chong Kar Min\",\"Reporting and Communication\"),\n",
        "    (\"Low Wei Jie\",\"Database Design\"),\n",
        "    (\"Low Wei Jie\",\"Database Design\"),\n",
        "    (\"Low Wei Jie\",\"Backup and Recovery\"),\n",
        "    (\"Low Wei Jie\",\"Monitoring\"),\n",
        "    (\"Low Wei Jie\",\"Troubleshooting\"),\n",
        "    (\"Derrick Saw Wei Heng\",\"Risk Assessment and Management\"),\n",
        "    (\"Derrick Saw Wei Heng\",\"Network and System Security\"),\n",
        "    (\"Derrick Saw Wei Heng\",\"Application Security\"),\n",
        "    (\"Derrick Saw Wei Heng\",\"Data Protection\"),\n",
        "    (\"Derrick Saw Wei Heng\",\"Cloud Security\")\n",
        "]\n",
        "for skill in skills:\n",
        "    cursor.execute(insert_query, skill)\n",
        "    conn.commit()\n",
        "\n",
        "#List of hobby data\n",
        "insert_query = '''\n",
        "INSERT INTO hobby (username,hobby) VALUES (?,?)\n",
        "'''\n",
        "hobbies = [\n",
        "    (\"Tracy Liaw Mien Yee\",\"Crochet\",\"Crochet is a therapeutic and calming hobby favored by those who find solace in crafting intricate and textured patterns, suitable for a wide array of projects, including wearables and accessories. It offers a means of spending time in a way that allows for the creation of one's desires.\"),\n",
        "    (\"Chong Kar Min\",\"Drawing\",\"Drawing brings joy and fulfillment to those who engage in it, allowing them to express themselves and explore their creativity. It provides moments of happiness as they bring their ideas to life through lines, shapes, and colors on paper or canvas.\"),\n",
        "    (\"Low Wei Jie\",\"Swimming\",\"I love swimming because it provides a perfect escape from the daily grind. The sensation of gliding through the water, the gentle sound of my own breath, and the feel of the water supporting me create a serene and peaceful environment. It's my personal oasis where I can leave all my worries behind and reconnect with myself. Moreover, the physical benefits of swimming, such as improved fitness and cardiovascular health, are an added bonus that makes my time in the pool even more enjoyable. So, for me, swimming is not just a hobby; it's a blissful retreat that rejuvenates my body and soul.\"),\n",
        "    (\"Derrick Saw Wei Heng\",\"Music\", \"Music is my hobby, a simple yet fulfilling pastime. I enjoy immersing myself in diverse genres, letting rhythms and melodies enhance my mood. Whether for an energy boost or relaxation, music adds depth to daily experiences. Exploring new genres and appreciating diverse artistry, it complements various activities, providing a soundtrack to different moments in my life.\")\n",
        "]\n",
        "for hobby in hobbies:\n",
        "  cursor.execute(insert_query, hobby)\n",
        "  conn.commit()\n",
        "\n",
        "#List of project data\n",
        "insert_query = '''\n",
        "INSERT INTO project (date,system, function) VALUES (?,?,?)\n",
        "'''\n",
        "projects = [\n",
        "    (\"DEC2022-JAN2023\",\"Quoffe Coffee Membership System\",\"Sign Up and Log In\"),\n",
        "    (\"DEC2022-JAN2023\",\"Quoffe Coffee Membership System\",\"Personalize Account\"),\n",
        "    (\"DEC2022-JAN2023\",\"Quoffe Coffee Membership System\",\"Attracting Ecommerce\"),\n",
        "    (\"DEC2022-JAN2023\",\"Quoffe Coffee Membership System\",\"Membership System\"),\n",
        "    (\"DEC2022-JAN2023\",\"Quoffe Coffee Membership System\",\"Order Activity\"),\n",
        "    (\"OCT2023-DEC2023\",\"TechKids Forum System\",\"Sign Up and Log In\"),\n",
        "    (\"OCT2023-DEC2023\",\"TechKids Forum System\",\"Interactive Forum\"),\n",
        "    (\"OCT2023-DEC2023\",\"TechKids Forum System\",\"Attracting Blog\"),\n",
        "    (\"OCT2023-DEC2023\",\"TechKids Forum System\",\"Personalized Account\"),\n",
        "    (\"OCT2023-DEC2023\",\"TechKids Forum System\",\"History Activity\")\n",
        "]\n",
        "for project in projects:\n",
        "  cursor.execute(insert_query, project)\n",
        "  conn.commit()\n"
      ],
      "metadata": {
        "id": "TkV02XRkeB__",
        "colab": {
          "base_uri": "https://localhost:8080/",
          "height": 262
        },
        "outputId": "eea0bdbc-30c8-47f6-d3b5-9b032f98bf46"
      },
      "execution_count": null,
      "outputs": [
        {
          "output_type": "error",
          "ename": "NameError",
          "evalue": "ignored",
          "traceback": [
            "\u001b[0;31m---------------------------------------------------------------------------\u001b[0m",
            "\u001b[0;31mNameError\u001b[0m                                 Traceback (most recent call last)",
            "\u001b[0;32m<ipython-input-8-d539aacc11a4>\u001b[0m in \u001b[0;36m<cell line: 6>\u001b[0;34m()\u001b[0m\n\u001b[1;32m      5\u001b[0m \u001b[0musers\u001b[0m \u001b[0;34m=\u001b[0m \u001b[0;34m[\u001b[0m\u001b[0;34m\"Tracy Liaw Mien Yee\"\u001b[0m\u001b[0;34m,\u001b[0m \u001b[0;34m\"Chong Kar Min\"\u001b[0m\u001b[0;34m,\u001b[0m \u001b[0;34m\"Low Wei Jie\"\u001b[0m\u001b[0;34m,\u001b[0m \u001b[0;34m\"Derrick Saw Wei Heng\"\u001b[0m\u001b[0;34m]\u001b[0m\u001b[0;34m\u001b[0m\u001b[0;34m\u001b[0m\u001b[0m\n\u001b[1;32m      6\u001b[0m \u001b[0;32mfor\u001b[0m \u001b[0muser\u001b[0m \u001b[0;32min\u001b[0m \u001b[0musers\u001b[0m\u001b[0;34m:\u001b[0m\u001b[0;34m\u001b[0m\u001b[0;34m\u001b[0m\u001b[0m\n\u001b[0;32m----> 7\u001b[0;31m   \u001b[0mcursor\u001b[0m\u001b[0;34m.\u001b[0m\u001b[0mexecute\u001b[0m\u001b[0;34m(\u001b[0m\u001b[0minsert_query\u001b[0m\u001b[0;34m,\u001b[0m \u001b[0;34m(\u001b[0m\u001b[0muser\u001b[0m\u001b[0;34m,\u001b[0m\u001b[0;34m)\u001b[0m\u001b[0;34m)\u001b[0m\u001b[0;34m\u001b[0m\u001b[0;34m\u001b[0m\u001b[0m\n\u001b[0m\u001b[1;32m      8\u001b[0m   \u001b[0mconn\u001b[0m\u001b[0;34m.\u001b[0m\u001b[0mcommit\u001b[0m\u001b[0;34m(\u001b[0m\u001b[0;34m)\u001b[0m\u001b[0;34m\u001b[0m\u001b[0;34m\u001b[0m\u001b[0m\n\u001b[1;32m      9\u001b[0m \u001b[0;34m\u001b[0m\u001b[0m\n",
            "\u001b[0;31mNameError\u001b[0m: name 'cursor' is not defined"
          ]
        }
      ]
    },
    {
      "cell_type": "markdown",
      "source": [
        "Step 5: Run to get access to the website"
      ],
      "metadata": {
        "id": "j8Bbx_O0fflh"
      }
    },
    {
      "cell_type": "code",
      "source": [
        "from flask import Flask, render_template, request, redirect\n",
        "from flask.templating import render_template\n",
        "from flask_ngrok import run_with_ngrok\n",
        "import sqlite3, secrets\n",
        "templates_folder='/content/drive/MyDrive/SKIG3013ASG2/templates'\n",
        "static_folder = '/content/drive/MyDrive/SKIG3013ASG2/assets'\n",
        "app = Flask(__name__, template_folder=templates_folder, static_folder=static_folder)\n",
        "run_with_ngrok(app)\n",
        "\n",
        "db_folder='/content/drive/MyDrive/SKIG3013ASG2'\n",
        "\n",
        "\n",
        "app.secret_key = secrets.token_hex(32)\n",
        "\n",
        "\n",
        "@app.route(\"/\")\n",
        "def landing():\n",
        "  return render_template(\"landing.html\")\n",
        "\n",
        "@app.route(\"/home\")\n",
        "def home():\n",
        "  conn=sqlite3.connect(db_folder+'mydatabase.db')\n",
        "  cursor = conn.cursor()\n",
        "  query = 'SELECT * FROM skill'\n",
        "  cursor.execute(query)\n",
        "  skills = cursor.fetchall()\n",
        "  return render_template(\"index.html\", skills=skills)\n",
        "\n",
        "@app.route(\"/hobby\")\n",
        "def hobby():\n",
        "  name = request.args.get('name', default=None)\n",
        "  conn=sqlite3.connect(db_folder+'mydatabase.db')\n",
        "  cursor = conn.cursor()\n",
        "  query = 'SELECT * FROM profile WHERE username = ?'\n",
        "  cursor.execute(query,(name,))\n",
        "  profile = cursor.fetchone()\n",
        "  query = 'SELECT * FROM hobby WHERE username = ?'\n",
        "  cursor.execute(query,(name,))\n",
        "  hobby = cursor.fetchone()\n",
        "  return render_template(\"hobby.html\",profile=profile,hobby=hobby)\n",
        "\n",
        "@app.route(\"/contact\")\n",
        "def contact():\n",
        "  return render_template(\"contact.html\")\n",
        "\n",
        "@app.route(\"/question\",methods=[\"POST\"])\n",
        "def question():\n",
        "  name=request.form.get('name')\n",
        "  email=request.form.get('email')\n",
        "  question=request.form.get('question')\n",
        "  conn=sqlite3.connect(db_folder+'mydatabase.db')\n",
        "  cursor = conn.cursor()\n",
        "  insert_query='INSERT INTO questions(name,email,question) VALUES(?,?,?)'\n",
        "  cursor.execute(insert_query,(name,email,question))\n",
        "  conn.commit()\n",
        "  query = 'SELECT * FROM questions'\n",
        "  cursor.execute(query)\n",
        "  skills = cursor.fetchall()\n",
        "  for skill in skills:\n",
        "    print(skill)\n",
        "  return render_template(\"contact.html\")\n",
        "\n",
        "@app.route(\"/service\",methods=[\"POST\"])\n",
        "def service():\n",
        "  name=request.form.get('name')\n",
        "  email=request.form.get('email')\n",
        "  source=request.form['source']\n",
        "  project_type=request.form['type']\n",
        "  budget=request.form['budget']\n",
        "  detail=request.form.get('details')\n",
        "  conn=sqlite3.connect(db_folder+'mydatabase.db')\n",
        "  cursor = conn.cursor()\n",
        "  insert_query='INSERT INTO service(name,email,source,type,budget,detail) VALUES(?,?,?,?,?,?)'\n",
        "  cursor.execute(insert_query,(name,email,source,project_type,budget,detail))\n",
        "  conn.commit()\n",
        "  query = 'SELECT * FROM service'\n",
        "  cursor.execute(query)\n",
        "  skills = cursor.fetchall()\n",
        "  for skill in skills:\n",
        "    print(skill)\n",
        "  return render_template(\"contact.html\")\n",
        "\n",
        "@app.route(\"/resume\")\n",
        "def resume():\n",
        "  name = request.args.get('name', default=None)\n",
        "  conn=sqlite3.connect(db_folder+'mydatabase.db')\n",
        "  cursor = conn.cursor()\n",
        "  query = 'SELECT * FROM profile WHERE username = ?'\n",
        "  cursor.execute(query,(name,))\n",
        "  profile = cursor.fetchone()\n",
        "  query = 'SELECT * FROM education WHERE username = ?'\n",
        "  cursor.execute(query,(name,))\n",
        "  education = cursor.fetchone()\n",
        "  query = 'SELECT * FROM skill WHERE username = ?'\n",
        "  cursor.execute(query,(name,))\n",
        "  skills = cursor.fetchall()\n",
        "  query='SELECT * FROM project'\n",
        "  cursor.execute(query)\n",
        "  projects=cursor.fetchall()\n",
        "  query='SELECT DISTINCT system, Date FROM project'\n",
        "  cursor.execute(query)\n",
        "  distinct_project=cursor.fetchall()\n",
        "  return render_template(\"resume.html\", profile=profile, education=education, skills=skills,projects=projects,distinct_project=distinct_project)\n",
        "\n",
        "@app.route(\"/project\")\n",
        "def project():\n",
        "  conn=sqlite3.connect(db_folder+'mydatabase.db')\n",
        "  cursor = conn.cursor()\n",
        "  query = 'SELECT * FROM project'\n",
        "  cursor.execute(query)\n",
        "  projects = cursor.fetchall()\n",
        "  return render_template(\"project.html\",projects=projects)\n",
        "\n",
        "app.run()"
      ],
      "metadata": {
        "colab": {
          "base_uri": "https://localhost:8080/"
        },
        "id": "J9jVh0rXXj7c",
        "outputId": "c095a1fc-fb63-45cc-ea65-dd6746cb6c0b"
      },
      "execution_count": null,
      "outputs": [
        {
          "output_type": "stream",
          "name": "stdout",
          "text": [
            " * Serving Flask app '__main__'\n",
            " * Debug mode: off\n"
          ]
        },
        {
          "output_type": "stream",
          "name": "stderr",
          "text": [
            "INFO:werkzeug:\u001b[31m\u001b[1mWARNING: This is a development server. Do not use it in a production deployment. Use a production WSGI server instead.\u001b[0m\n",
            " * Running on http://127.0.0.1:5000\n",
            "INFO:werkzeug:\u001b[33mPress CTRL+C to quit\u001b[0m\n",
            "Exception in thread Thread-1013:\n",
            "Traceback (most recent call last):\n",
            "  File \"/usr/local/lib/python3.10/dist-packages/urllib3/connection.py\", line 203, in _new_conn\n",
            "    sock = connection.create_connection(\n",
            "  File \"/usr/local/lib/python3.10/dist-packages/urllib3/util/connection.py\", line 85, in create_connection\n",
            "    raise err\n",
            "  File \"/usr/local/lib/python3.10/dist-packages/urllib3/util/connection.py\", line 73, in create_connection\n",
            "    sock.connect(sa)\n",
            "ConnectionRefusedError: [Errno 111] Connection refused\n",
            "\n",
            "The above exception was the direct cause of the following exception:\n",
            "\n",
            "Traceback (most recent call last):\n",
            "  File \"/usr/local/lib/python3.10/dist-packages/urllib3/connectionpool.py\", line 791, in urlopen\n",
            "    response = self._make_request(\n",
            "  File \"/usr/local/lib/python3.10/dist-packages/urllib3/connectionpool.py\", line 497, in _make_request\n",
            "    conn.request(\n",
            "  File \"/usr/local/lib/python3.10/dist-packages/urllib3/connection.py\", line 395, in request\n",
            "    self.endheaders()\n",
            "  File \"/usr/lib/python3.10/http/client.py\", line 1278, in endheaders\n",
            "    self._send_output(message_body, encode_chunked=encode_chunked)\n",
            "  File \"/usr/lib/python3.10/http/client.py\", line 1038, in _send_output\n",
            "    self.send(msg)\n",
            "  File \"/usr/lib/python3.10/http/client.py\", line 976, in send\n",
            "    self.connect()\n",
            "  File \"/usr/local/lib/python3.10/dist-packages/urllib3/connection.py\", line 243, in connect\n",
            "    self.sock = self._new_conn()\n",
            "  File \"/usr/local/lib/python3.10/dist-packages/urllib3/connection.py\", line 218, in _new_conn\n",
            "    raise NewConnectionError(\n",
            "urllib3.exceptions.NewConnectionError: <urllib3.connection.HTTPConnection object at 0x7bd93637b6a0>: Failed to establish a new connection: [Errno 111] Connection refused\n",
            "\n",
            "The above exception was the direct cause of the following exception:\n",
            "\n",
            "Traceback (most recent call last):\n",
            "  File \"/usr/local/lib/python3.10/dist-packages/requests/adapters.py\", line 486, in send\n",
            "    resp = conn.urlopen(\n",
            "  File \"/usr/local/lib/python3.10/dist-packages/urllib3/connectionpool.py\", line 845, in urlopen\n",
            "    retries = retries.increment(\n",
            "  File \"/usr/local/lib/python3.10/dist-packages/urllib3/util/retry.py\", line 515, in increment\n",
            "    raise MaxRetryError(_pool, url, reason) from reason  # type: ignore[arg-type]\n",
            "urllib3.exceptions.MaxRetryError: HTTPConnectionPool(host='localhost', port=4040): Max retries exceeded with url: /api/tunnels (Caused by NewConnectionError('<urllib3.connection.HTTPConnection object at 0x7bd93637b6a0>: Failed to establish a new connection: [Errno 111] Connection refused'))\n",
            "\n",
            "During handling of the above exception, another exception occurred:\n",
            "\n",
            "Traceback (most recent call last):\n",
            "  File \"/usr/lib/python3.10/threading.py\", line 1016, in _bootstrap_inner\n",
            "    self.run()\n",
            "  File \"/usr/lib/python3.10/threading.py\", line 1378, in run\n",
            "    self.function(*self.args, **self.kwargs)\n",
            "  File \"/usr/local/lib/python3.10/dist-packages/flask_ngrok.py\", line 70, in start_ngrok\n",
            "    ngrok_address = _run_ngrok()\n",
            "  File \"/usr/local/lib/python3.10/dist-packages/flask_ngrok.py\", line 35, in _run_ngrok\n",
            "    tunnel_url = requests.get(localhost_url).text  # Get the tunnel information\n",
            "  File \"/usr/local/lib/python3.10/dist-packages/requests/api.py\", line 73, in get\n",
            "    return request(\"get\", url, params=params, **kwargs)\n",
            "  File \"/usr/local/lib/python3.10/dist-packages/requests/api.py\", line 59, in request\n",
            "    return session.request(method=method, url=url, **kwargs)\n",
            "  File \"/usr/local/lib/python3.10/dist-packages/requests/sessions.py\", line 589, in request\n",
            "    resp = self.send(prep, **send_kwargs)\n",
            "  File \"/usr/local/lib/python3.10/dist-packages/requests/sessions.py\", line 703, in send\n",
            "    r = adapter.send(request, **kwargs)\n",
            "  File \"/usr/local/lib/python3.10/dist-packages/requests/adapters.py\", line 519, in send\n",
            "    raise ConnectionError(e, request=request)\n",
            "requests.exceptions.ConnectionError: HTTPConnectionPool(host='localhost', port=4040): Max retries exceeded with url: /api/tunnels (Caused by NewConnectionError('<urllib3.connection.HTTPConnection object at 0x7bd93637b6a0>: Failed to establish a new connection: [Errno 111] Connection refused'))\n"
          ]
        }
      ]
    },
    {
      "cell_type": "markdown",
      "source": [
        "**To look at the question and project request sent by the user to the website, the following code can be run."
      ],
      "metadata": {
        "id": "WdbAXNIvf8Dp"
      }
    },
    {
      "cell_type": "code",
      "source": [
        "conn=sqlite3.connect(db_folder+'mydatabase.db')\n",
        "cursor = conn.cursor()\n",
        "\n",
        "#Retrieve the data from question table\n",
        "query='SELECT * FROM questions'\n",
        "cursor.execute(query)\n",
        "questions = cursor.fetchall()\n",
        "\n",
        "#Retrieve the data from service table\n",
        "query='SELECT * FROM service'\n",
        "cursor.execute(query)\n",
        "services = cursor.fetchall()\n",
        "\n",
        "print(\"Question: \")\n",
        "for question in questions:\n",
        "  print(\"-----------------------\")\n",
        "  print(\"Username: \"+question[0])\n",
        "  print(\"Email: \"+question[1])\n",
        "  print(\"Question: \"+question[2])\n",
        "  print(\"----------------------\")\n",
        "  print(\"\")\n",
        "\n",
        "print(\"Project Request:\")\n",
        "for service in services:\n",
        "  print(\"-----------------------\")\n",
        "  print(\"Username: \" + service[0])\n",
        "  print(\"Email: \" + service[1])\n",
        "  print(\"Source: \" + service[2])\n",
        "  print(\"Project Type: \" + service[3])\n",
        "  print(\"Project Budget: \" + service[4])\n",
        "  print(\"Project Details: \" + service[5])\n",
        "  print(\"-----------------------\")\n",
        "  print(\"\")"
      ],
      "metadata": {
        "id": "Vu9vXyvaZ31p",
        "colab": {
          "base_uri": "https://localhost:8080/"
        },
        "outputId": "38c03035-62dc-47eb-de79-df83424138ba"
      },
      "execution_count": null,
      "outputs": [
        {
          "output_type": "stream",
          "name": "stdout",
          "text": [
            "Question: \n",
            "-----------------------\n",
            "Username: intro low wei jie\n",
            "Email: weijie0429@gmail.com\n",
            "Question: hihi\n",
            "----------------------\n",
            "\n",
            "Project Request:\n",
            "-----------------------\n",
            "Username: Low Wei Jie s289669\n",
            "Email: weijie0429@gmail.com\n",
            "Source: Facebook\n",
            "Project Type: UI/UX Design\n",
            "Project Budget: 2k above\n",
            "Project Details: do la bodoh\n",
            "-----------------------\n",
            "\n"
          ]
        }
      ]
    }
  ]
}
